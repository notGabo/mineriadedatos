{
 "cells": [
  {
   "cell_type": "markdown",
   "metadata": {},
   "source": [
    "# Clase 19 de marzo: Limpieza\n",
    "En la clase de hoy amos a tratar el tema de la limpieza de los datos, base al mismo conjunto de datos de la sesión anterior"
   ]
  },
  {
   "cell_type": "code",
   "execution_count": 1,
   "metadata": {},
   "outputs": [],
   "source": [
    "import pandas as pd\n",
    "import numpy as np\n",
    "import matplotlib as plt"
   ]
  },
  {
   "cell_type": "code",
   "execution_count": 2,
   "metadata": {},
   "outputs": [
    {
     "data": {
      "text/html": [
       "<div>\n",
       "<style scoped>\n",
       "    .dataframe tbody tr th:only-of-type {\n",
       "        vertical-align: middle;\n",
       "    }\n",
       "\n",
       "    .dataframe tbody tr th {\n",
       "        vertical-align: top;\n",
       "    }\n",
       "\n",
       "    .dataframe thead th {\n",
       "        text-align: right;\n",
       "    }\n",
       "</style>\n",
       "<table border=\"1\" class=\"dataframe\">\n",
       "  <thead>\n",
       "    <tr style=\"text-align: right;\">\n",
       "      <th></th>\n",
       "      <th>Timestamp</th>\n",
       "      <th>Participant_ID</th>\n",
       "      <th>Gender</th>\n",
       "      <th>Nationality</th>\n",
       "      <th>Age</th>\n",
       "      <th>Food</th>\n",
       "      <th>Juice</th>\n",
       "      <th>Dessert</th>\n",
       "    </tr>\n",
       "  </thead>\n",
       "  <tbody>\n",
       "    <tr>\n",
       "      <th>0</th>\n",
       "      <td>2019/05/07 2:59:13 PM GMT+8</td>\n",
       "      <td>FPS001</td>\n",
       "      <td>Male</td>\n",
       "      <td>Indian</td>\n",
       "      <td>24</td>\n",
       "      <td>Traditional food</td>\n",
       "      <td>Fresh Juice</td>\n",
       "      <td>Maybe</td>\n",
       "    </tr>\n",
       "    <tr>\n",
       "      <th>1</th>\n",
       "      <td>2019/05/07 2:59:45 PM GMT+8</td>\n",
       "      <td>FPS002</td>\n",
       "      <td>Female</td>\n",
       "      <td>Indian</td>\n",
       "      <td>22</td>\n",
       "      <td>Western Food</td>\n",
       "      <td>Carbonated drinks</td>\n",
       "      <td>Yes</td>\n",
       "    </tr>\n",
       "    <tr>\n",
       "      <th>2</th>\n",
       "      <td>2019/05/07 3:00:05 PM GMT+8</td>\n",
       "      <td>FPS003</td>\n",
       "      <td>Male</td>\n",
       "      <td>Indian</td>\n",
       "      <td>31</td>\n",
       "      <td>Western Food</td>\n",
       "      <td>Fresh Juice</td>\n",
       "      <td>Maybe</td>\n",
       "    </tr>\n",
       "    <tr>\n",
       "      <th>3</th>\n",
       "      <td>2019/05/07 3:00:11 PM GMT+8</td>\n",
       "      <td>FPS004</td>\n",
       "      <td>Female</td>\n",
       "      <td>Indian</td>\n",
       "      <td>25</td>\n",
       "      <td>Traditional food</td>\n",
       "      <td>Fresh Juice</td>\n",
       "      <td>Maybe</td>\n",
       "    </tr>\n",
       "    <tr>\n",
       "      <th>4</th>\n",
       "      <td>2019/05/07 3:02:50 PM GMT+8</td>\n",
       "      <td>FPS005</td>\n",
       "      <td>Male</td>\n",
       "      <td>Indian</td>\n",
       "      <td>27</td>\n",
       "      <td>Traditional food</td>\n",
       "      <td>Fresh Juice</td>\n",
       "      <td>Maybe</td>\n",
       "    </tr>\n",
       "  </tbody>\n",
       "</table>\n",
       "</div>"
      ],
      "text/plain": [
       "                     Timestamp Participant_ID  Gender Nationality  Age  \\\n",
       "0  2019/05/07 2:59:13 PM GMT+8         FPS001    Male      Indian   24   \n",
       "1  2019/05/07 2:59:45 PM GMT+8         FPS002  Female      Indian   22   \n",
       "2  2019/05/07 3:00:05 PM GMT+8         FPS003    Male      Indian   31   \n",
       "3  2019/05/07 3:00:11 PM GMT+8         FPS004  Female      Indian   25   \n",
       "4  2019/05/07 3:02:50 PM GMT+8         FPS005    Male      Indian   27   \n",
       "\n",
       "               Food              Juice Dessert  \n",
       "0  Traditional food        Fresh Juice   Maybe  \n",
       "1      Western Food  Carbonated drinks     Yes  \n",
       "2      Western Food        Fresh Juice   Maybe  \n",
       "3  Traditional food        Fresh Juice   Maybe  \n",
       "4  Traditional food        Fresh Juice   Maybe  "
      ]
     },
     "execution_count": 2,
     "metadata": {},
     "output_type": "execute_result"
    }
   ],
   "source": [
    "url = \"http://dmontero.org/mineria/datasets/2.2.4%20Food_Preference.csv\"\n",
    "\n",
    "## Cargar datos\n",
    "data_frame = pd.read_csv(url)\n",
    "data_frame.head()"
   ]
  },
  {
   "cell_type": "code",
   "execution_count": 3,
   "metadata": {},
   "outputs": [
    {
     "data": {
      "text/plain": [
       "(288, 8)"
      ]
     },
     "execution_count": 3,
     "metadata": {},
     "output_type": "execute_result"
    }
   ],
   "source": [
    "data_frame.shape"
   ]
  },
  {
   "cell_type": "markdown",
   "metadata": {},
   "source": [
    "Filtramos por nacionalidad"
   ]
  },
  {
   "cell_type": "code",
   "execution_count": 4,
   "metadata": {},
   "outputs": [
    {
     "name": "stdout",
     "output_type": "stream",
     "text": [
      "(27,)\n",
      "['Indian' 'Pakistani ' 'Tanzanian' 'Indonesia' 'Muslim' 'Pakistan'\n",
      " 'Maldivian ' 'MY' 'Malaysian' 'Malaysian ' 'Indonesian ' 'Maldivian'\n",
      " 'MALAYSIAN' 'Malaysia ' 'Pakistani' 'Canadian' 'Nigerian ' 'Algerian '\n",
      " 'Korean ' 'Seychellois' 'Indonesain' 'Indonesian' 'Malaysia' 'Japan'\n",
      " 'China' 'Mauritian' 'Yemen']\n"
     ]
    }
   ],
   "source": [
    "nacionalidades = data_frame['Nationality'].unique()\n",
    "print(nacionalidades.shape)\n",
    "print(nacionalidades)"
   ]
  },
  {
   "cell_type": "code",
   "execution_count": 5,
   "metadata": {},
   "outputs": [
    {
     "name": "stdout",
     "output_type": "stream",
     "text": [
      "(16,)\n",
      "['Indian' 'Pakistani ' 'Tanzanian' 'Indonesia' 'Muslim' 'Pakistan'\n",
      " 'Maldivian ' 'MY' 'Malaysian' 'Malaysian ' 'Indonesian ' 'Maldivian'\n",
      " 'MALAYSIAN' 'Malaysia ' 'Pakistani' 'Canadian' 'Nigerian ' 'Algerian '\n",
      " 'Korean ' 'Seychellois' 'Indonesain' 'Indonesian' 'Malaysia' 'Japan'\n",
      " 'China' 'Mauritian' 'Yemen']\n"
     ]
    }
   ],
   "source": [
    "df_copia = data_frame.copy()\n",
    "\n",
    "# Pakistan\n",
    "df_copia['Nationality'] = df_copia['Nationality'].replace('Pakistani ', 'Pakistani')\n",
    "df_copia['Nationality'] = df_copia['Nationality'].replace('Pakistan', 'Pakistani')\n",
    "\n",
    "# Indonesia\n",
    "df_copia['Nationality'] = df_copia['Nationality'].replace('Indonesain', 'Indonesian')\n",
    "df_copia['Nationality'] = df_copia['Nationality'].replace('Indonesian ', 'Indonesian')\n",
    "df_copia['Nationality'] = df_copia['Nationality'].replace('Indonesia', 'Indonesian')\n",
    "\n",
    "# Maldivia\n",
    "df_copia['Nationality'] = df_copia['Nationality'].replace('Maldivian ', 'Maldivian')\n",
    "\n",
    "# Malasia\n",
    "df_copia['Nationality'] = df_copia['Nationality'].replace('Malaysian ', 'Malaysian')\n",
    "df_copia['Nationality'] = df_copia['Nationality'].replace('MALAYSIAN', 'Malaysian')\n",
    "df_copia['Nationality'] = df_copia['Nationality'].replace('Malaysia ', 'Malaysian')\n",
    "df_copia['Nationality'] = df_copia['Nationality'].replace('Malaysia', 'Malaysian')\n",
    "df_copia['Nationality'] = df_copia['Nationality'].replace('MY', 'Malaysian')\n",
    "\n",
    "\n",
    "nacionalidades_limpias = df_copia['Nationality'].unique()\n",
    "print(nacionalidades_limpias.shape)\n",
    "print(nacionalidades)"
   ]
  },
  {
   "cell_type": "code",
   "execution_count": 6,
   "metadata": {},
   "outputs": [
    {
     "data": {
      "text/plain": [
       "Nationality\n",
       "Indian         241\n",
       "Malaysian       16\n",
       "Indonesian      10\n",
       "Pakistani        6\n",
       "Maldivian        3\n",
       "Japan            2\n",
       "Tanzanian        1\n",
       "Muslim           1\n",
       "Canadian         1\n",
       "Nigerian         1\n",
       "Algerian         1\n",
       "Korean           1\n",
       "Seychellois      1\n",
       "China            1\n",
       "Mauritian        1\n",
       "Yemen            1\n",
       "Name: count, dtype: int64"
      ]
     },
     "execution_count": 6,
     "metadata": {},
     "output_type": "execute_result"
    }
   ],
   "source": [
    "df_copia['Nationality'].value_counts()"
   ]
  }
 ],
 "metadata": {
  "kernelspec": {
   "display_name": ".venv",
   "language": "python",
   "name": "python3"
  },
  "language_info": {
   "codemirror_mode": {
    "name": "ipython",
    "version": 3
   },
   "file_extension": ".py",
   "mimetype": "text/x-python",
   "name": "python",
   "nbconvert_exporter": "python",
   "pygments_lexer": "ipython3",
   "version": "3.11.8"
  }
 },
 "nbformat": 4,
 "nbformat_minor": 2
}
